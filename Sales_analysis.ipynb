{
 "cells": [
  {
   "cell_type": "code",
   "execution_count": 156,
   "metadata": {},
   "outputs": [],
   "source": [
    "import pandas as pd\n",
    "import os\n",
    "import matplotlib.pyplot as plt"
   ]
  },
  {
   "cell_type": "markdown",
   "metadata": {},
   "source": [
    "### Merge 12 months of sales data into one "
   ]
  },
  {
   "cell_type": "code",
   "execution_count": 157,
   "metadata": {},
   "outputs": [],
   "source": [
    "files = [file for file in os.listdir('./Sales_Data')]"
   ]
  },
  {
   "cell_type": "code",
   "execution_count": 158,
   "metadata": {},
   "outputs": [],
   "source": [
    "all_months_data = pd.DataFrame()"
   ]
  },
  {
   "cell_type": "code",
   "execution_count": 159,
   "metadata": {},
   "outputs": [],
   "source": [
    "for file in files:\n",
    "    pf = pd.read_csv('./Sales_Data/'+file)\n",
    "    all_months_data = pd.concat([all_months_data, pf])"
   ]
  },
  {
   "cell_type": "code",
   "execution_count": 160,
   "metadata": {},
   "outputs": [],
   "source": [
    "# all_months_data.to_csv(\"all_data.csv\", index=False)"
   ]
  },
  {
   "cell_type": "code",
   "execution_count": 161,
   "metadata": {},
   "outputs": [],
   "source": [
    "all_data = pd.read_csv(\"./all_data.csv\")\n",
    "all_data = all_data.dropna()"
   ]
  },
  {
   "cell_type": "code",
   "execution_count": 162,
   "metadata": {},
   "outputs": [
    {
     "data": {
      "text/html": [
       "<div>\n",
       "<style scoped>\n",
       "    .dataframe tbody tr th:only-of-type {\n",
       "        vertical-align: middle;\n",
       "    }\n",
       "\n",
       "    .dataframe tbody tr th {\n",
       "        vertical-align: top;\n",
       "    }\n",
       "\n",
       "    .dataframe thead th {\n",
       "        text-align: right;\n",
       "    }\n",
       "</style>\n",
       "<table border=\"1\" class=\"dataframe\">\n",
       "  <thead>\n",
       "    <tr style=\"text-align: right;\">\n",
       "      <th></th>\n",
       "      <th>Order ID</th>\n",
       "      <th>Product</th>\n",
       "      <th>Quantity Ordered</th>\n",
       "      <th>Price Each</th>\n",
       "      <th>Order Date</th>\n",
       "      <th>Purchase Address</th>\n",
       "    </tr>\n",
       "  </thead>\n",
       "  <tbody>\n",
       "    <tr>\n",
       "      <td>0</td>\n",
       "      <td>295665</td>\n",
       "      <td>Macbook Pro Laptop</td>\n",
       "      <td>1</td>\n",
       "      <td>1700</td>\n",
       "      <td>12/30/19 00:01</td>\n",
       "      <td>136 Church St, New York City, NY 10001</td>\n",
       "    </tr>\n",
       "    <tr>\n",
       "      <td>1</td>\n",
       "      <td>295666</td>\n",
       "      <td>LG Washing Machine</td>\n",
       "      <td>1</td>\n",
       "      <td>600.0</td>\n",
       "      <td>12/29/19 07:03</td>\n",
       "      <td>562 2nd St, New York City, NY 10001</td>\n",
       "    </tr>\n",
       "    <tr>\n",
       "      <td>2</td>\n",
       "      <td>295667</td>\n",
       "      <td>USB-C Charging Cable</td>\n",
       "      <td>1</td>\n",
       "      <td>11.95</td>\n",
       "      <td>12/12/19 18:21</td>\n",
       "      <td>277 Main St, New York City, NY 10001</td>\n",
       "    </tr>\n",
       "    <tr>\n",
       "      <td>3</td>\n",
       "      <td>295668</td>\n",
       "      <td>27in FHD Monitor</td>\n",
       "      <td>1</td>\n",
       "      <td>149.99</td>\n",
       "      <td>12/22/19 15:13</td>\n",
       "      <td>410 6th St, San Francisco, CA 94016</td>\n",
       "    </tr>\n",
       "    <tr>\n",
       "      <td>4</td>\n",
       "      <td>295669</td>\n",
       "      <td>USB-C Charging Cable</td>\n",
       "      <td>1</td>\n",
       "      <td>11.95</td>\n",
       "      <td>12/18/19 12:38</td>\n",
       "      <td>43 Hill St, Atlanta, GA 30301</td>\n",
       "    </tr>\n",
       "  </tbody>\n",
       "</table>\n",
       "</div>"
      ],
      "text/plain": [
       "  Order ID               Product Quantity Ordered Price Each      Order Date  \\\n",
       "0   295665    Macbook Pro Laptop                1       1700  12/30/19 00:01   \n",
       "1   295666    LG Washing Machine                1      600.0  12/29/19 07:03   \n",
       "2   295667  USB-C Charging Cable                1      11.95  12/12/19 18:21   \n",
       "3   295668      27in FHD Monitor                1     149.99  12/22/19 15:13   \n",
       "4   295669  USB-C Charging Cable                1      11.95  12/18/19 12:38   \n",
       "\n",
       "                         Purchase Address  \n",
       "0  136 Church St, New York City, NY 10001  \n",
       "1     562 2nd St, New York City, NY 10001  \n",
       "2    277 Main St, New York City, NY 10001  \n",
       "3     410 6th St, San Francisco, CA 94016  \n",
       "4           43 Hill St, Atlanta, GA 30301  "
      ]
     },
     "execution_count": 162,
     "metadata": {},
     "output_type": "execute_result"
    }
   ],
   "source": [
    "all_data.head()"
   ]
  },
  {
   "cell_type": "markdown",
   "metadata": {},
   "source": [
    "### Clean up data "
   ]
  },
  {
   "cell_type": "markdown",
   "metadata": {},
   "source": [
    "#### Find 'Or' and delete it "
   ]
  },
  {
   "cell_type": "code",
   "execution_count": 163,
   "metadata": {},
   "outputs": [],
   "source": [
    "all_data = all_data[all_data[\"Order Date\"].str[0:2] != 'Or']"
   ]
  },
  {
   "cell_type": "markdown",
   "metadata": {},
   "source": [
    "#### Convert coluns to correct type"
   ]
  },
  {
   "cell_type": "code",
   "execution_count": 164,
   "metadata": {},
   "outputs": [],
   "source": [
    "all_data[\"Quantity Ordered\"] = pd.to_numeric(all_data['Quantity Ordered'])\n",
    "all_data[\"Price Each\"] =pd.to_numeric(all_data['Price Each'])"
   ]
  },
  {
   "cell_type": "markdown",
   "metadata": {},
   "source": [
    "### Augment data with additional columns "
   ]
  },
  {
   "cell_type": "markdown",
   "metadata": {},
   "source": [
    "#### Task #2: Add month column "
   ]
  },
  {
   "cell_type": "code",
   "execution_count": 165,
   "metadata": {},
   "outputs": [],
   "source": [
    "all_data[\"Month\"] = all_data[\"Order Date\"].str[0:2]\n",
    "all_data[\"Month\"] = all_data[\"Month\"].astype('int32')"
   ]
  },
  {
   "cell_type": "markdown",
   "metadata": {},
   "source": [
    "#### Task 3: Add sales column "
   ]
  },
  {
   "cell_type": "code",
   "execution_count": 166,
   "metadata": {},
   "outputs": [],
   "source": [
    "all_data[\"Sales\"] = all_data[\"Quantity Ordered\"] * all_data[\"Price Each\"]"
   ]
  },
  {
   "cell_type": "markdown",
   "metadata": {},
   "source": [
    "#### Task 4: Add a city column "
   ]
  },
  {
   "cell_type": "code",
   "execution_count": 167,
   "metadata": {},
   "outputs": [],
   "source": [
    "all_data[\"City\"] = all_data[\"Purchase Address\"].apply(lambda x : x.split(',')[1])"
   ]
  },
  {
   "cell_type": "markdown",
   "metadata": {},
   "source": [
    "### Question 1: What was the best month for sales? How much was earned that month? "
   ]
  },
  {
   "cell_type": "code",
   "execution_count": 168,
   "metadata": {},
   "outputs": [
    {
     "data": {
      "text/html": [
       "<div>\n",
       "<style scoped>\n",
       "    .dataframe tbody tr th:only-of-type {\n",
       "        vertical-align: middle;\n",
       "    }\n",
       "\n",
       "    .dataframe tbody tr th {\n",
       "        vertical-align: top;\n",
       "    }\n",
       "\n",
       "    .dataframe thead th {\n",
       "        text-align: right;\n",
       "    }\n",
       "</style>\n",
       "<table border=\"1\" class=\"dataframe\">\n",
       "  <thead>\n",
       "    <tr style=\"text-align: right;\">\n",
       "      <th></th>\n",
       "      <th>Quantity Ordered</th>\n",
       "      <th>Price Each</th>\n",
       "      <th>Sales</th>\n",
       "    </tr>\n",
       "    <tr>\n",
       "      <th>Month</th>\n",
       "      <th></th>\n",
       "      <th></th>\n",
       "      <th></th>\n",
       "    </tr>\n",
       "  </thead>\n",
       "  <tbody>\n",
       "    <tr>\n",
       "      <td>1</td>\n",
       "      <td>10903</td>\n",
       "      <td>1.811768e+06</td>\n",
       "      <td>1.822257e+06</td>\n",
       "    </tr>\n",
       "    <tr>\n",
       "      <td>2</td>\n",
       "      <td>13449</td>\n",
       "      <td>2.188885e+06</td>\n",
       "      <td>2.202022e+06</td>\n",
       "    </tr>\n",
       "    <tr>\n",
       "      <td>3</td>\n",
       "      <td>17005</td>\n",
       "      <td>2.791208e+06</td>\n",
       "      <td>2.807100e+06</td>\n",
       "    </tr>\n",
       "    <tr>\n",
       "      <td>4</td>\n",
       "      <td>20558</td>\n",
       "      <td>3.367671e+06</td>\n",
       "      <td>3.390670e+06</td>\n",
       "    </tr>\n",
       "    <tr>\n",
       "      <td>5</td>\n",
       "      <td>18667</td>\n",
       "      <td>3.135125e+06</td>\n",
       "      <td>3.152607e+06</td>\n",
       "    </tr>\n",
       "    <tr>\n",
       "      <td>6</td>\n",
       "      <td>15253</td>\n",
       "      <td>2.562026e+06</td>\n",
       "      <td>2.577802e+06</td>\n",
       "    </tr>\n",
       "    <tr>\n",
       "      <td>7</td>\n",
       "      <td>16072</td>\n",
       "      <td>2.632540e+06</td>\n",
       "      <td>2.647776e+06</td>\n",
       "    </tr>\n",
       "    <tr>\n",
       "      <td>8</td>\n",
       "      <td>13448</td>\n",
       "      <td>2.230345e+06</td>\n",
       "      <td>2.244468e+06</td>\n",
       "    </tr>\n",
       "    <tr>\n",
       "      <td>9</td>\n",
       "      <td>13109</td>\n",
       "      <td>2.084992e+06</td>\n",
       "      <td>2.097560e+06</td>\n",
       "    </tr>\n",
       "    <tr>\n",
       "      <td>10</td>\n",
       "      <td>22703</td>\n",
       "      <td>3.715555e+06</td>\n",
       "      <td>3.736727e+06</td>\n",
       "    </tr>\n",
       "    <tr>\n",
       "      <td>11</td>\n",
       "      <td>19798</td>\n",
       "      <td>3.180601e+06</td>\n",
       "      <td>3.199603e+06</td>\n",
       "    </tr>\n",
       "    <tr>\n",
       "      <td>12</td>\n",
       "      <td>28114</td>\n",
       "      <td>4.588415e+06</td>\n",
       "      <td>4.613443e+06</td>\n",
       "    </tr>\n",
       "  </tbody>\n",
       "</table>\n",
       "</div>"
      ],
      "text/plain": [
       "       Quantity Ordered    Price Each         Sales\n",
       "Month                                              \n",
       "1                 10903  1.811768e+06  1.822257e+06\n",
       "2                 13449  2.188885e+06  2.202022e+06\n",
       "3                 17005  2.791208e+06  2.807100e+06\n",
       "4                 20558  3.367671e+06  3.390670e+06\n",
       "5                 18667  3.135125e+06  3.152607e+06\n",
       "6                 15253  2.562026e+06  2.577802e+06\n",
       "7                 16072  2.632540e+06  2.647776e+06\n",
       "8                 13448  2.230345e+06  2.244468e+06\n",
       "9                 13109  2.084992e+06  2.097560e+06\n",
       "10                22703  3.715555e+06  3.736727e+06\n",
       "11                19798  3.180601e+06  3.199603e+06\n",
       "12                28114  4.588415e+06  4.613443e+06"
      ]
     },
     "execution_count": 168,
     "metadata": {},
     "output_type": "execute_result"
    }
   ],
   "source": [
    "results = all_data.groupby(\"Month\").sum()\n",
    "results"
   ]
  },
  {
   "cell_type": "code",
   "execution_count": 169,
   "metadata": {},
   "outputs": [
    {
     "data": {
      "image/png": "[encoded data removed]",
      "text/plain": [
       "<Figure size 432x288 with 1 Axes>"
      ]
     },
     "metadata": {
      "needs_background": "light"
     },
     "output_type": "display_data"
    }
   ],
   "source": [
    "\n",
    "months = range(1,13)\n",
    "plt.bar(months, results[\"Sales\"])\n",
    "plt.xticks(months)\n",
    "plt.xlabel(\"Months\")\n",
    "plt.ylabel(\"Sales\")\n",
    "plt.show()"
   ]
  },
  {
   "cell_type": "markdown",
   "metadata": {},
   "source": [
    "The month with the best sales was December with a total of $40613 dollars."
   ]
  },
  {
   "cell_type": "markdown",
   "metadata": {},
   "source": [
    "### What city had the highest number of sales? "
   ]
  },
  {
   "cell_type": "code",
   "execution_count": 170,
   "metadata": {},
   "outputs": [
    {
     "data": {
      "text/html": [
       "<div>\n",
       "<style scoped>\n",
       "    .dataframe tbody tr th:only-of-type {\n",
       "        vertical-align: middle;\n",
       "    }\n",
       "\n",
       "    .dataframe tbody tr th {\n",
       "        vertical-align: top;\n",
       "    }\n",
       "\n",
       "    .dataframe thead th {\n",
       "        text-align: right;\n",
       "    }\n",
       "</style>\n",
       "<table border=\"1\" class=\"dataframe\">\n",
       "  <thead>\n",
       "    <tr style=\"text-align: right;\">\n",
       "      <th></th>\n",
       "      <th>Quantity Ordered</th>\n",
       "      <th>Price Each</th>\n",
       "      <th>Month</th>\n",
       "      <th>Sales</th>\n",
       "    </tr>\n",
       "    <tr>\n",
       "      <th>City</th>\n",
       "      <th></th>\n",
       "      <th></th>\n",
       "      <th></th>\n",
       "      <th></th>\n",
       "    </tr>\n",
       "  </thead>\n",
       "  <tbody>\n",
       "    <tr>\n",
       "      <td>Atlanta</td>\n",
       "      <td>16602</td>\n",
       "      <td>2.779908e+06</td>\n",
       "      <td>104794</td>\n",
       "      <td>2.795499e+06</td>\n",
       "    </tr>\n",
       "    <tr>\n",
       "      <td>Austin</td>\n",
       "      <td>11153</td>\n",
       "      <td>1.809874e+06</td>\n",
       "      <td>69829</td>\n",
       "      <td>1.819582e+06</td>\n",
       "    </tr>\n",
       "    <tr>\n",
       "      <td>Boston</td>\n",
       "      <td>22528</td>\n",
       "      <td>3.637410e+06</td>\n",
       "      <td>141112</td>\n",
       "      <td>3.661642e+06</td>\n",
       "    </tr>\n",
       "    <tr>\n",
       "      <td>Dallas</td>\n",
       "      <td>16730</td>\n",
       "      <td>2.752628e+06</td>\n",
       "      <td>104620</td>\n",
       "      <td>2.767975e+06</td>\n",
       "    </tr>\n",
       "    <tr>\n",
       "      <td>Los Angeles</td>\n",
       "      <td>33289</td>\n",
       "      <td>5.421435e+06</td>\n",
       "      <td>208325</td>\n",
       "      <td>5.452571e+06</td>\n",
       "    </tr>\n",
       "    <tr>\n",
       "      <td>New York City</td>\n",
       "      <td>27932</td>\n",
       "      <td>4.635371e+06</td>\n",
       "      <td>175741</td>\n",
       "      <td>4.664317e+06</td>\n",
       "    </tr>\n",
       "    <tr>\n",
       "      <td>Portland</td>\n",
       "      <td>14053</td>\n",
       "      <td>2.307747e+06</td>\n",
       "      <td>87765</td>\n",
       "      <td>2.320491e+06</td>\n",
       "    </tr>\n",
       "    <tr>\n",
       "      <td>San Francisco</td>\n",
       "      <td>50239</td>\n",
       "      <td>8.211462e+06</td>\n",
       "      <td>315520</td>\n",
       "      <td>8.262204e+06</td>\n",
       "    </tr>\n",
       "    <tr>\n",
       "      <td>Seattle</td>\n",
       "      <td>16553</td>\n",
       "      <td>2.733296e+06</td>\n",
       "      <td>104941</td>\n",
       "      <td>2.747755e+06</td>\n",
       "    </tr>\n",
       "  </tbody>\n",
       "</table>\n",
       "</div>"
      ],
      "text/plain": [
       "                Quantity Ordered    Price Each   Month         Sales\n",
       "City                                                                \n",
       " Atlanta                   16602  2.779908e+06  104794  2.795499e+06\n",
       " Austin                    11153  1.809874e+06   69829  1.819582e+06\n",
       " Boston                    22528  3.637410e+06  141112  3.661642e+06\n",
       " Dallas                    16730  2.752628e+06  104620  2.767975e+06\n",
       " Los Angeles               33289  5.421435e+06  208325  5.452571e+06\n",
       " New York City             27932  4.635371e+06  175741  4.664317e+06\n",
       " Portland                  14053  2.307747e+06   87765  2.320491e+06\n",
       " San Francisco             50239  8.211462e+06  315520  8.262204e+06\n",
       " Seattle                   16553  2.733296e+06  104941  2.747755e+06"
      ]
     },
     "execution_count": 170,
     "metadata": {},
     "output_type": "execute_result"
    }
   ],
   "source": [
    "city_results = all_data.groupby(\"City\").sum()\n",
    "city_results"
   ]
  },
  {
   "cell_type": "code",
   "execution_count": 176,
   "metadata": {},
   "outputs": [],
   "source": [
    "cities = [city for city, df in all_data.groupby(\"City\")]"
   ]
  },
  {
   "cell_type": "code",
   "execution_count": 177,
   "metadata": {},
   "outputs": [
    {
     "data": {
      "image/png": "[encoded data removed]",
      "text/plain": [
       "<Figure size 432x288 with 1 Axes>"
      ]
     },
     "metadata": {
      "needs_background": "light"
     },
     "output_type": "display_data"
    }
   ],
   "source": [
    "plt.bar(cities, city_results[\"Sales\"])\n",
    "plt.xticks(cities, rotation=\"vertical\", size=8)\n",
    "plt.xlabel(\"City\")\n",
    "plt.ylabel(\"Sales\")\n",
    "plt.show()"
   ]
  },
  {
   "cell_type": "code",
   "execution_count": null,
   "metadata": {},
   "outputs": [],
   "source": []
  }
 ],
 "metadata": {
  "kernelspec": {
   "display_name": "Python 3",
   "language": "python",
   "name": "python3"
  },
  "language_info": {
   "codemirror_mode": {
    "name": "ipython",
    "version": 3
   },
   "file_extension": ".py",
   "mimetype": "text/x-python",
   "name": "python",
   "nbconvert_exporter": "python",
   "pygments_lexer": "ipython3",
   "version": "3.7.4"
  }
 },
 "nbformat": 4,
 "nbformat_minor": 2
}
